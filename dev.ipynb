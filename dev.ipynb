{
 "cells": [
  {
   "cell_type": "markdown",
   "metadata": {},
   "source": [
    "# iPlanner Net"
   ]
  },
  {
   "cell_type": "code",
   "execution_count": 1,
   "metadata": {},
   "outputs": [],
   "source": [
    "%load_ext autoreload\n",
    "%autoreload 2"
   ]
  },
  {
   "cell_type": "code",
   "execution_count": 17,
   "metadata": {},
   "outputs": [],
   "source": [
    "import argparse\n",
    "import time\n",
    "import numpy as np\n",
    "import torch\n",
    "import cv2\n",
    "import sys\n",
    "import os\n",
    "import matplotlib.pyplot as plt\n",
    "sys.path.append('iplanner')\n",
    "\n",
    "from iplanner.ip_algo import *\n",
    "from iplanner.percept_net import *\n",
    "from iplanner.torchutil import *"
   ]
  },
  {
   "cell_type": "code",
   "execution_count": 10,
   "metadata": {},
   "outputs": [
    {
     "data": {
      "image/png": "[encoded data removed]",
      "text/plain": [
       "<Figure size 640x480 with 1 Axes>"
      ]
     },
     "metadata": {},
     "output_type": "display_data"
    }
   ],
   "source": [
    "cwd = os.getcwd()\n",
    "\n",
    "file_path = f'{cwd}/../iPlanner_Data/data/TrainingData/2n8kARJN3HM/depth/0.png'\n",
    "\n",
    "# Load the image\n",
    "img = cv2.imread(file_path, 0)\n",
    "\n",
    "#cv2.imshow('image', img)\n",
    "#cv2.waitKey(0)\n",
    "#cv2.destroyAllWindows()\n",
    "\n",
    "plt.imshow(img, cmap='gray')\n",
    "plt.show()"
   ]
  },
  {
   "cell_type": "code",
   "execution_count": 29,
   "metadata": {},
   "outputs": [
    {
     "name": "stdout",
     "output_type": "stream",
     "text": [
      "(360, 640)\n"
     ]
    },
    {
     "data": {
      "text/plain": [
       "array([[4, 4, 4, ..., 6, 6, 6],\n",
       "       [4, 4, 4, ..., 6, 6, 6],\n",
       "       [4, 4, 4, ..., 6, 6, 6],\n",
       "       ...,\n",
       "       [2, 2, 2, ..., 2, 2, 2],\n",
       "       [2, 2, 2, ..., 2, 2, 2],\n",
       "       [2, 2, 2, ..., 2, 2, 2]], dtype=uint8)"
      ]
     },
     "execution_count": 29,
     "metadata": {},
     "output_type": "execute_result"
    }
   ],
   "source": [
    "print(img.shape)\n",
    "img"
   ]
  },
  {
   "cell_type": "code",
   "execution_count": 11,
   "metadata": {},
   "outputs": [],
   "source": [
    "parser = argparse.ArgumentParser(description='iPlanner')\n",
    "args = parser.parse_args(args=[])\n",
    "\n",
    "args.model_save = f'{cwd}/iplanner/models/plannernet_pretrained.pt'\n",
    "args.crop_size = [360,640]\n",
    "args.sensor_offset_x = 0.0\n",
    "args.sensor_offset_y = 0.0"
   ]
  },
  {
   "cell_type": "code",
   "execution_count": 26,
   "metadata": {},
   "outputs": [
    {
     "ename": "NotImplementedError",
     "evalue": "The operator 'aten::searchsorted.Tensor' is not currently implemented for the MPS device. If you want this op to be added in priority during the prototype phase of this feature, please comment on https://github.com/pytorch/pytorch/issues/77764. As a temporary fix, you can set the environment variable `PYTORCH_ENABLE_MPS_FALLBACK=1` to use the CPU as a fallback for this op. WARNING: this will be slower than running natively on MPS.",
     "output_type": "error",
     "traceback": [
      "\u001b[0;31m---------------------------------------------------------------------------\u001b[0m",
      "\u001b[0;31mNotImplementedError\u001b[0m                       Traceback (most recent call last)",
      "\u001b[1;32m/Users/pascal/Developer/ETH/RSL/leggedrobotics/iPlanner/dev.ipynb Zelle 8\u001b[0m line \u001b[0;36m8\n\u001b[1;32m      <a href='vscode-notebook-cell:/Users/pascal/Developer/ETH/RSL/leggedrobotics/iPlanner/dev.ipynb#W6sZmlsZQ%3D%3D?line=4'>5</a>\u001b[0m curr_img \u001b[39m=\u001b[39m img\u001b[39m.\u001b[39mcopy()\n\u001b[1;32m      <a href='vscode-notebook-cell:/Users/pascal/Developer/ETH/RSL/leggedrobotics/iPlanner/dev.ipynb#W6sZmlsZQ%3D%3D?line=5'>6</a>\u001b[0m goal_rb \u001b[39m=\u001b[39m torch\u001b[39m.\u001b[39mfrom_numpy(np\u001b[39m.\u001b[39marray([\u001b[39m0.0\u001b[39m, \u001b[39m0.0\u001b[39m, \u001b[39m0.0\u001b[39m, \u001b[39m1.0\u001b[39m, \u001b[39m0.0\u001b[39m, \u001b[39m0.0\u001b[39m, \u001b[39m0.0\u001b[39m])[\u001b[39mNone\u001b[39;00m,:])\u001b[39m.\u001b[39mfloat()\n\u001b[0;32m----> <a href='vscode-notebook-cell:/Users/pascal/Developer/ETH/RSL/leggedrobotics/iPlanner/dev.ipynb#W6sZmlsZQ%3D%3D?line=7'>8</a>\u001b[0m preds, waypoints, fear_output, _ \u001b[39m=\u001b[39m ip_algo\u001b[39m.\u001b[39;49mplan(curr_img, goal_rb)\n\u001b[1;32m     <a href='vscode-notebook-cell:/Users/pascal/Developer/ETH/RSL/leggedrobotics/iPlanner/dev.ipynb#W6sZmlsZQ%3D%3D?line=9'>10</a>\u001b[0m \u001b[39mdel\u001b[39;00m ip_algo\n",
      "File \u001b[0;32m~/Developer/ETH/RSL/leggedrobotics/iPlanner/iplanner/ip_algo.py:58\u001b[0m, in \u001b[0;36mIPlannerAlgo.plan\u001b[0;34m(self, image, goal_robot_frame)\u001b[0m\n\u001b[1;32m     56\u001b[0m     keypoints[\u001b[39m.\u001b[39m\u001b[39m.\u001b[39m\u001b[39m.\u001b[39m, \u001b[39m0\u001b[39m] \u001b[39m+\u001b[39m\u001b[39m=\u001b[39m \u001b[39mself\u001b[39m\u001b[39m.\u001b[39msensor_offset_x\n\u001b[1;32m     57\u001b[0m     keypoints[\u001b[39m.\u001b[39m\u001b[39m.\u001b[39m\u001b[39m.\u001b[39m, \u001b[39m1\u001b[39m] \u001b[39m+\u001b[39m\u001b[39m=\u001b[39m \u001b[39mself\u001b[39m\u001b[39m.\u001b[39msensor_offset_y\n\u001b[0;32m---> 58\u001b[0m traj \u001b[39m=\u001b[39m \u001b[39mself\u001b[39;49m\u001b[39m.\u001b[39;49mtraj_generate\u001b[39m.\u001b[39;49mTrajGeneratorFromPFreeRot(keypoints , step\u001b[39m=\u001b[39;49m\u001b[39m0.1\u001b[39;49m)\n\u001b[1;32m     60\u001b[0m \u001b[39mreturn\u001b[39;00m keypoints, traj, fear, img\n",
      "File \u001b[0;32m~/Developer/ETH/RSL/leggedrobotics/iPlanner/iplanner/traj_opt.py:57\u001b[0m, in \u001b[0;36mTrajOpt.TrajGeneratorFromPFreeRot\u001b[0;34m(self, preds, step)\u001b[0m\n\u001b[1;32m     55\u001b[0m x  \u001b[39m=\u001b[39m torch\u001b[39m.\u001b[39marange(num_p, device\u001b[39m=\u001b[39mpreds\u001b[39m.\u001b[39mdevice, dtype\u001b[39m=\u001b[39mpreds\u001b[39m.\u001b[39mdtype)\n\u001b[1;32m     56\u001b[0m x  \u001b[39m=\u001b[39m x\u001b[39m.\u001b[39mrepeat(batch_size, \u001b[39m1\u001b[39m)\n\u001b[0;32m---> 57\u001b[0m waypoints \u001b[39m=\u001b[39m \u001b[39mself\u001b[39;49m\u001b[39m.\u001b[39;49mcs_interp\u001b[39m.\u001b[39;49minterp(x, points_preds, xs)\n\u001b[1;32m     58\u001b[0m \u001b[39mreturn\u001b[39;00m waypoints\n",
      "File \u001b[0;32m~/Developer/ETH/RSL/leggedrobotics/iPlanner/iplanner/traj_opt.py:33\u001b[0m, in \u001b[0;36mCubicSplineTorch.interp\u001b[0;34m(self, x, y, xs)\u001b[0m\n\u001b[1;32m     31\u001b[0m m \u001b[39m=\u001b[39m (y[:, \u001b[39m1\u001b[39m:, :] \u001b[39m-\u001b[39m y[:, :\u001b[39m-\u001b[39m\u001b[39m1\u001b[39m, :]) \u001b[39m/\u001b[39m torch\u001b[39m.\u001b[39munsqueeze(x[:, \u001b[39m1\u001b[39m:] \u001b[39m-\u001b[39m x[:, :\u001b[39m-\u001b[39m\u001b[39m1\u001b[39m], \u001b[39m2\u001b[39m)\n\u001b[1;32m     32\u001b[0m m \u001b[39m=\u001b[39m torch\u001b[39m.\u001b[39mcat([m[:, \u001b[39mNone\u001b[39;00m, \u001b[39m0\u001b[39m], (m[:, \u001b[39m1\u001b[39m:] \u001b[39m+\u001b[39m m[:, :\u001b[39m-\u001b[39m\u001b[39m1\u001b[39m]) \u001b[39m/\u001b[39m \u001b[39m2\u001b[39m, m[:, \u001b[39mNone\u001b[39;00m, \u001b[39m-\u001b[39m\u001b[39m1\u001b[39m]], \u001b[39m1\u001b[39m)\n\u001b[0;32m---> 33\u001b[0m idxs \u001b[39m=\u001b[39m torch\u001b[39m.\u001b[39;49msearchsorted(x[\u001b[39m0\u001b[39;49m, \u001b[39m1\u001b[39;49m:], xs[\u001b[39m0\u001b[39;49m, :])\n\u001b[1;32m     34\u001b[0m dx \u001b[39m=\u001b[39m x[:, idxs \u001b[39m+\u001b[39m \u001b[39m1\u001b[39m] \u001b[39m-\u001b[39m x[:, idxs]\n\u001b[1;32m     35\u001b[0m hh \u001b[39m=\u001b[39m \u001b[39mself\u001b[39m\u001b[39m.\u001b[39mh_poly((xs \u001b[39m-\u001b[39m x[:, idxs]) \u001b[39m/\u001b[39m dx)\n",
      "\u001b[0;31mNotImplementedError\u001b[0m: The operator 'aten::searchsorted.Tensor' is not currently implemented for the MPS device. If you want this op to be added in priority during the prototype phase of this feature, please comment on https://github.com/pytorch/pytorch/issues/77764. As a temporary fix, you can set the environment variable `PYTORCH_ENABLE_MPS_FALLBACK=1` to use the CPU as a fallback for this op. WARNING: this will be slower than running natively on MPS."
     ]
    }
   ],
   "source": [
    "from iplanner.ip_algo import *\n",
    "\n",
    "ip_algo = IPlannerAlgo(args=args)\n",
    "\n",
    "curr_img = img.copy()\n",
    "goal_rb = torch.from_numpy(np.array([0.0, 0.0, 0.0, 1.0, 0.0, 0.0, 0.0])[None,:]).float()\n",
    "\n",
    "preds, waypoints, fear_output, _ = ip_algo.plan(curr_img, goal_rb)\n",
    "\n",
    "del ip_algo"
   ]
  },
  {
   "cell_type": "code",
   "execution_count": null,
   "metadata": {},
   "outputs": [],
   "source": []
  }
 ],
 "metadata": {
  "kernelspec": {
   "display_name": "iplanner",
   "language": "python",
   "name": "python3"
  },
  "language_info": {
   "codemirror_mode": {
    "name": "ipython",
    "version": 3
   },
   "file_extension": ".py",
   "mimetype": "text/x-python",
   "name": "python",
   "nbconvert_exporter": "python",
   "pygments_lexer": "ipython3",
   "version": "3.8.18"
  }
 },
 "nbformat": 4,
 "nbformat_minor": 2
}
